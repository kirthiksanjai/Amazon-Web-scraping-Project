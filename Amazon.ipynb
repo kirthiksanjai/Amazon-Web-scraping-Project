{
 "cells": [
  {
   "cell_type": "code",
   "execution_count": 1,
   "id": "47d44559",
   "metadata": {},
   "outputs": [],
   "source": [
    "from bs4 import BeautifulSoup\n",
    "import json\n",
    "import csv\n",
    "\n"
   ]
  },
  {
   "cell_type": "code",
   "execution_count": 2,
   "id": "8f6fcc8a",
   "metadata": {},
   "outputs": [],
   "source": [
    "# Read the HTML file\n",
    "with open(r\"C:\\Users\\kirth\\Downloads\\Amazon.in.html\", 'r', encoding='utf-8') as file:\n",
    "    html_content = file.read()\n",
    "\n",
    "# Parse the HTML content using BeautifulSoup\n",
    "soup = BeautifulSoup(html_content, 'html.parser')\n",
    "\n",
    "\n"
   ]
  },
  {
   "cell_type": "code",
   "execution_count": 3,
   "id": "fbc8633b",
   "metadata": {},
   "outputs": [],
   "source": [
    "# Find all div elements with the specified class\n",
    "divs = soup.find_all('div', class_=\"sg-col-4-of-24 sg-col-4-of-12 s-result-item s-asin sg-col-4-of-16 AdHolder sg-col s-widget-spacing-small sg-col-4-of-20\")\n"
   ]
  },
  {
   "cell_type": "code",
   "execution_count": 4,
   "id": "00faf90b",
   "metadata": {},
   "outputs": [],
   "source": [
    "# List to store the extracted data\n",
    "data = []\n",
    "\n",
    "# Extract the required data from each div\n",
    "for div in divs:\n",
    "    item = {}\n",
    "    \n",
    "    # Extract the image link\n",
    "    img = div.find('img', class_='s-image s-image-optimized-rendering')\n",
    "    item['link'] = img['src'] if img else ''\n",
    "    \n",
    "    # Extract the title\n",
    "    title_span = div.find('span', class_='a-size-base-plus a-color-base a-text-normal')\n",
    "    item['title'] = title_span.text if title_span else ''\n",
    "    \n",
    "    # Extract the rating\n",
    "    rating_span = div.find('span', class_='a-icon-alt')\n",
    "    item['rating'] = rating_span.text if rating_span else ''\n",
    "    \n",
    "    # Extract the price\n",
    "    price_span = div.find('span', class_='a-price-whole')\n",
    "    item['price'] = price_span.text if price_span else ''\n",
    "    \n",
    "    data.append(item)\n",
    "\n",
    "\n",
    "\n"
   ]
  },
  {
   "cell_type": "code",
   "execution_count": 5,
   "id": "e2a88b7b",
   "metadata": {},
   "outputs": [],
   "source": [
    "# Save the data to a JSON file\n",
    "with open('amazon_data.json', 'w', encoding='utf-8') as json_file:\n",
    "    json.dump(data, json_file, ensure_ascii=False, indent=4)\n",
    "\n",
    "\n"
   ]
  },
  {
   "cell_type": "code",
   "execution_count": 6,
   "id": "1855c236",
   "metadata": {},
   "outputs": [],
   "source": [
    "# Save the data to a CSV file\n",
    "with open('amazon_data.csv', 'w', encoding='utf-8', newline='') as csv_file:\n",
    "    writer = csv.DictWriter(csv_file, fieldnames=['link', 'title', 'rating', 'price'])\n",
    "    writer.writeheader()\n",
    "    writer.writerows(data)\n"
   ]
  },
  {
   "cell_type": "code",
   "execution_count": 7,
   "id": "1c4557a8",
   "metadata": {},
   "outputs": [
    {
     "name": "stdout",
     "output_type": "stream",
     "text": [
      "Data has been saved to amazon_data.json and amazon_data.csv\n"
     ]
    }
   ],
   "source": [
    "print(\"Data has been saved to amazon_data.json and amazon_data.csv\")"
   ]
  },
  {
   "cell_type": "code",
   "execution_count": 8,
   "id": "17dfee7b",
   "metadata": {},
   "outputs": [
    {
     "data": {
      "text/plain": [
       "{'link': 'https://m.media-amazon.com/images/I/4187aySsFUL._AC_UL320_.jpg',\n",
       " 'title': 'Dorca Best Protective IPS Monitor Dust Cover For Dell New Inspiron 22 3000 All-In-One Desktop Computer 22-Inch - White',\n",
       " 'rating': '4.4 out of 5 stars',\n",
       " 'price': '289'}"
      ]
     },
     "execution_count": 8,
     "metadata": {},
     "output_type": "execute_result"
    }
   ],
   "source": [
    "item"
   ]
  },
  {
   "cell_type": "code",
   "execution_count": 11,
   "id": "cf70fe08",
   "metadata": {},
   "outputs": [],
   "source": [
    "import pandas as pd"
   ]
  },
  {
   "cell_type": "code",
   "execution_count": 12,
   "id": "85437e85",
   "metadata": {},
   "outputs": [
    {
     "name": "stdout",
     "output_type": "stream",
     "text": [
      "Data from JSON:\n",
      "                                                link  \\\n",
      "0  https://m.media-amazon.com/images/I/51AJKfxIfw...   \n",
      "1  https://m.media-amazon.com/images/I/41pCmnn4hn...   \n",
      "2  https://m.media-amazon.com/images/I/41EZ4B8Qix...   \n",
      "3  https://m.media-amazon.com/images/I/41UGazGMCe...   \n",
      "4  https://m.media-amazon.com/images/I/71UHj9oMfM...   \n",
      "5  https://m.media-amazon.com/images/I/51T3Zl7nVV...   \n",
      "6  https://m.media-amazon.com/images/I/51Yfbk5XHJ...   \n",
      "7  https://m.media-amazon.com/images/I/4187aySsFU...   \n",
      "\n",
      "                                               title              rating  \\\n",
      "0  DEVIANT® Android 11.0 4GB RAM 32GB ROM Dual Wi...                       \n",
      "1  SYNTRONIC Desktop Pc Computer (Core i7 6th gen...  3.1 out of 5 stars   \n",
      "2  Acer Aspire 12Th Gen Intel Core I5-12400 Proce...  5.0 out of 5 stars   \n",
      "3  AUSEK® Android 10 Dual WiFi 2.4/5 Ghz H616 4K ...                       \n",
      "4  Trixis Fire 5515 Desktop PC, i5 4th Generation...  4.2 out of 5 stars   \n",
      "5  Trixis Zaire-Z10 i7 3rd Generation Computer De...  4.5 out of 5 stars   \n",
      "6  Trixis Zaire-Z16 i5 4th Generation Computer De...  4.5 out of 5 stars   \n",
      "7  Dorca Best Protective IPS Monitor Dust Cover F...  4.4 out of 5 stars   \n",
      "\n",
      "    price  \n",
      "0   4,499  \n",
      "1  22,499  \n",
      "2  45,000  \n",
      "3   3,399  \n",
      "4  14,399  \n",
      "5  15,530  \n",
      "6  13,235  \n",
      "7     289  \n"
     ]
    }
   ],
   "source": [
    "# Load data from JSON file\n",
    "df_json = pd.read_json('amazon_data.json')\n",
    "print(\"Data from JSON:\")\n",
    "print(df_json)\n"
   ]
  },
  {
   "cell_type": "code",
   "execution_count": 13,
   "id": "3c2c2c6d",
   "metadata": {},
   "outputs": [
    {
     "name": "stdout",
     "output_type": "stream",
     "text": [
      "\n",
      "Data from CSV:\n",
      "                                                link  \\\n",
      "0  https://m.media-amazon.com/images/I/51AJKfxIfw...   \n",
      "1  https://m.media-amazon.com/images/I/41pCmnn4hn...   \n",
      "2  https://m.media-amazon.com/images/I/41EZ4B8Qix...   \n",
      "3  https://m.media-amazon.com/images/I/41UGazGMCe...   \n",
      "4  https://m.media-amazon.com/images/I/71UHj9oMfM...   \n",
      "5  https://m.media-amazon.com/images/I/51T3Zl7nVV...   \n",
      "6  https://m.media-amazon.com/images/I/51Yfbk5XHJ...   \n",
      "7  https://m.media-amazon.com/images/I/4187aySsFU...   \n",
      "\n",
      "                                               title              rating  \\\n",
      "0  DEVIANT® Android 11.0 4GB RAM 32GB ROM Dual Wi...                 NaN   \n",
      "1  SYNTRONIC Desktop Pc Computer (Core i7 6th gen...  3.1 out of 5 stars   \n",
      "2  Acer Aspire 12Th Gen Intel Core I5-12400 Proce...  5.0 out of 5 stars   \n",
      "3  AUSEK® Android 10 Dual WiFi 2.4/5 Ghz H616 4K ...                 NaN   \n",
      "4  Trixis Fire 5515 Desktop PC, i5 4th Generation...  4.2 out of 5 stars   \n",
      "5  Trixis Zaire-Z10 i7 3rd Generation Computer De...  4.5 out of 5 stars   \n",
      "6  Trixis Zaire-Z16 i5 4th Generation Computer De...  4.5 out of 5 stars   \n",
      "7  Dorca Best Protective IPS Monitor Dust Cover F...  4.4 out of 5 stars   \n",
      "\n",
      "    price  \n",
      "0   4,499  \n",
      "1  22,499  \n",
      "2  45,000  \n",
      "3   3,399  \n",
      "4  14,399  \n",
      "5  15,530  \n",
      "6  13,235  \n",
      "7     289  \n"
     ]
    }
   ],
   "source": [
    "\n",
    "# Load data from CSV file\n",
    "df_csv = pd.read_csv('amazon_data.csv')\n",
    "print(\"\\nData from CSV:\")\n",
    "print(df_csv)\n"
   ]
  },
  {
   "cell_type": "code",
   "execution_count": 14,
   "id": "b4fac47e",
   "metadata": {},
   "outputs": [
    {
     "data": {
      "text/html": [
       "<div>\n",
       "<style scoped>\n",
       "    .dataframe tbody tr th:only-of-type {\n",
       "        vertical-align: middle;\n",
       "    }\n",
       "\n",
       "    .dataframe tbody tr th {\n",
       "        vertical-align: top;\n",
       "    }\n",
       "\n",
       "    .dataframe thead th {\n",
       "        text-align: right;\n",
       "    }\n",
       "</style>\n",
       "<table border=\"1\" class=\"dataframe\">\n",
       "  <thead>\n",
       "    <tr style=\"text-align: right;\">\n",
       "      <th></th>\n",
       "      <th>link</th>\n",
       "      <th>title</th>\n",
       "      <th>rating</th>\n",
       "      <th>price</th>\n",
       "    </tr>\n",
       "  </thead>\n",
       "  <tbody>\n",
       "    <tr>\n",
       "      <th>0</th>\n",
       "      <td>https://m.media-amazon.com/images/I/51AJKfxIfw...</td>\n",
       "      <td>DEVIANT® Android 11.0 4GB RAM 32GB ROM Dual Wi...</td>\n",
       "      <td></td>\n",
       "      <td>4,499</td>\n",
       "    </tr>\n",
       "    <tr>\n",
       "      <th>1</th>\n",
       "      <td>https://m.media-amazon.com/images/I/41pCmnn4hn...</td>\n",
       "      <td>SYNTRONIC Desktop Pc Computer (Core i7 6th gen...</td>\n",
       "      <td>3.1 out of 5 stars</td>\n",
       "      <td>22,499</td>\n",
       "    </tr>\n",
       "    <tr>\n",
       "      <th>2</th>\n",
       "      <td>https://m.media-amazon.com/images/I/41EZ4B8Qix...</td>\n",
       "      <td>Acer Aspire 12Th Gen Intel Core I5-12400 Proce...</td>\n",
       "      <td>5.0 out of 5 stars</td>\n",
       "      <td>45,000</td>\n",
       "    </tr>\n",
       "    <tr>\n",
       "      <th>3</th>\n",
       "      <td>https://m.media-amazon.com/images/I/41UGazGMCe...</td>\n",
       "      <td>AUSEK® Android 10 Dual WiFi 2.4/5 Ghz H616 4K ...</td>\n",
       "      <td></td>\n",
       "      <td>3,399</td>\n",
       "    </tr>\n",
       "    <tr>\n",
       "      <th>4</th>\n",
       "      <td>https://m.media-amazon.com/images/I/71UHj9oMfM...</td>\n",
       "      <td>Trixis Fire 5515 Desktop PC, i5 4th Generation...</td>\n",
       "      <td>4.2 out of 5 stars</td>\n",
       "      <td>14,399</td>\n",
       "    </tr>\n",
       "    <tr>\n",
       "      <th>5</th>\n",
       "      <td>https://m.media-amazon.com/images/I/51T3Zl7nVV...</td>\n",
       "      <td>Trixis Zaire-Z10 i7 3rd Generation Computer De...</td>\n",
       "      <td>4.5 out of 5 stars</td>\n",
       "      <td>15,530</td>\n",
       "    </tr>\n",
       "    <tr>\n",
       "      <th>6</th>\n",
       "      <td>https://m.media-amazon.com/images/I/51Yfbk5XHJ...</td>\n",
       "      <td>Trixis Zaire-Z16 i5 4th Generation Computer De...</td>\n",
       "      <td>4.5 out of 5 stars</td>\n",
       "      <td>13,235</td>\n",
       "    </tr>\n",
       "    <tr>\n",
       "      <th>7</th>\n",
       "      <td>https://m.media-amazon.com/images/I/4187aySsFU...</td>\n",
       "      <td>Dorca Best Protective IPS Monitor Dust Cover F...</td>\n",
       "      <td>4.4 out of 5 stars</td>\n",
       "      <td>289</td>\n",
       "    </tr>\n",
       "  </tbody>\n",
       "</table>\n",
       "</div>"
      ],
      "text/plain": [
       "                                                link  \\\n",
       "0  https://m.media-amazon.com/images/I/51AJKfxIfw...   \n",
       "1  https://m.media-amazon.com/images/I/41pCmnn4hn...   \n",
       "2  https://m.media-amazon.com/images/I/41EZ4B8Qix...   \n",
       "3  https://m.media-amazon.com/images/I/41UGazGMCe...   \n",
       "4  https://m.media-amazon.com/images/I/71UHj9oMfM...   \n",
       "5  https://m.media-amazon.com/images/I/51T3Zl7nVV...   \n",
       "6  https://m.media-amazon.com/images/I/51Yfbk5XHJ...   \n",
       "7  https://m.media-amazon.com/images/I/4187aySsFU...   \n",
       "\n",
       "                                               title              rating  \\\n",
       "0  DEVIANT® Android 11.0 4GB RAM 32GB ROM Dual Wi...                       \n",
       "1  SYNTRONIC Desktop Pc Computer (Core i7 6th gen...  3.1 out of 5 stars   \n",
       "2  Acer Aspire 12Th Gen Intel Core I5-12400 Proce...  5.0 out of 5 stars   \n",
       "3  AUSEK® Android 10 Dual WiFi 2.4/5 Ghz H616 4K ...                       \n",
       "4  Trixis Fire 5515 Desktop PC, i5 4th Generation...  4.2 out of 5 stars   \n",
       "5  Trixis Zaire-Z10 i7 3rd Generation Computer De...  4.5 out of 5 stars   \n",
       "6  Trixis Zaire-Z16 i5 4th Generation Computer De...  4.5 out of 5 stars   \n",
       "7  Dorca Best Protective IPS Monitor Dust Cover F...  4.4 out of 5 stars   \n",
       "\n",
       "    price  \n",
       "0   4,499  \n",
       "1  22,499  \n",
       "2  45,000  \n",
       "3   3,399  \n",
       "4  14,399  \n",
       "5  15,530  \n",
       "6  13,235  \n",
       "7     289  "
      ]
     },
     "execution_count": 14,
     "metadata": {},
     "output_type": "execute_result"
    }
   ],
   "source": [
    "df_json"
   ]
  },
  {
   "cell_type": "code",
   "execution_count": 15,
   "id": "5ab10d60",
   "metadata": {},
   "outputs": [
    {
     "data": {
      "text/html": [
       "<div>\n",
       "<style scoped>\n",
       "    .dataframe tbody tr th:only-of-type {\n",
       "        vertical-align: middle;\n",
       "    }\n",
       "\n",
       "    .dataframe tbody tr th {\n",
       "        vertical-align: top;\n",
       "    }\n",
       "\n",
       "    .dataframe thead th {\n",
       "        text-align: right;\n",
       "    }\n",
       "</style>\n",
       "<table border=\"1\" class=\"dataframe\">\n",
       "  <thead>\n",
       "    <tr style=\"text-align: right;\">\n",
       "      <th></th>\n",
       "      <th>link</th>\n",
       "      <th>title</th>\n",
       "      <th>rating</th>\n",
       "      <th>price</th>\n",
       "    </tr>\n",
       "  </thead>\n",
       "  <tbody>\n",
       "    <tr>\n",
       "      <th>0</th>\n",
       "      <td>https://m.media-amazon.com/images/I/51AJKfxIfw...</td>\n",
       "      <td>DEVIANT® Android 11.0 4GB RAM 32GB ROM Dual Wi...</td>\n",
       "      <td>NaN</td>\n",
       "      <td>4,499</td>\n",
       "    </tr>\n",
       "    <tr>\n",
       "      <th>1</th>\n",
       "      <td>https://m.media-amazon.com/images/I/41pCmnn4hn...</td>\n",
       "      <td>SYNTRONIC Desktop Pc Computer (Core i7 6th gen...</td>\n",
       "      <td>3.1 out of 5 stars</td>\n",
       "      <td>22,499</td>\n",
       "    </tr>\n",
       "    <tr>\n",
       "      <th>2</th>\n",
       "      <td>https://m.media-amazon.com/images/I/41EZ4B8Qix...</td>\n",
       "      <td>Acer Aspire 12Th Gen Intel Core I5-12400 Proce...</td>\n",
       "      <td>5.0 out of 5 stars</td>\n",
       "      <td>45,000</td>\n",
       "    </tr>\n",
       "    <tr>\n",
       "      <th>3</th>\n",
       "      <td>https://m.media-amazon.com/images/I/41UGazGMCe...</td>\n",
       "      <td>AUSEK® Android 10 Dual WiFi 2.4/5 Ghz H616 4K ...</td>\n",
       "      <td>NaN</td>\n",
       "      <td>3,399</td>\n",
       "    </tr>\n",
       "    <tr>\n",
       "      <th>4</th>\n",
       "      <td>https://m.media-amazon.com/images/I/71UHj9oMfM...</td>\n",
       "      <td>Trixis Fire 5515 Desktop PC, i5 4th Generation...</td>\n",
       "      <td>4.2 out of 5 stars</td>\n",
       "      <td>14,399</td>\n",
       "    </tr>\n",
       "    <tr>\n",
       "      <th>5</th>\n",
       "      <td>https://m.media-amazon.com/images/I/51T3Zl7nVV...</td>\n",
       "      <td>Trixis Zaire-Z10 i7 3rd Generation Computer De...</td>\n",
       "      <td>4.5 out of 5 stars</td>\n",
       "      <td>15,530</td>\n",
       "    </tr>\n",
       "    <tr>\n",
       "      <th>6</th>\n",
       "      <td>https://m.media-amazon.com/images/I/51Yfbk5XHJ...</td>\n",
       "      <td>Trixis Zaire-Z16 i5 4th Generation Computer De...</td>\n",
       "      <td>4.5 out of 5 stars</td>\n",
       "      <td>13,235</td>\n",
       "    </tr>\n",
       "    <tr>\n",
       "      <th>7</th>\n",
       "      <td>https://m.media-amazon.com/images/I/4187aySsFU...</td>\n",
       "      <td>Dorca Best Protective IPS Monitor Dust Cover F...</td>\n",
       "      <td>4.4 out of 5 stars</td>\n",
       "      <td>289</td>\n",
       "    </tr>\n",
       "  </tbody>\n",
       "</table>\n",
       "</div>"
      ],
      "text/plain": [
       "                                                link  \\\n",
       "0  https://m.media-amazon.com/images/I/51AJKfxIfw...   \n",
       "1  https://m.media-amazon.com/images/I/41pCmnn4hn...   \n",
       "2  https://m.media-amazon.com/images/I/41EZ4B8Qix...   \n",
       "3  https://m.media-amazon.com/images/I/41UGazGMCe...   \n",
       "4  https://m.media-amazon.com/images/I/71UHj9oMfM...   \n",
       "5  https://m.media-amazon.com/images/I/51T3Zl7nVV...   \n",
       "6  https://m.media-amazon.com/images/I/51Yfbk5XHJ...   \n",
       "7  https://m.media-amazon.com/images/I/4187aySsFU...   \n",
       "\n",
       "                                               title              rating  \\\n",
       "0  DEVIANT® Android 11.0 4GB RAM 32GB ROM Dual Wi...                 NaN   \n",
       "1  SYNTRONIC Desktop Pc Computer (Core i7 6th gen...  3.1 out of 5 stars   \n",
       "2  Acer Aspire 12Th Gen Intel Core I5-12400 Proce...  5.0 out of 5 stars   \n",
       "3  AUSEK® Android 10 Dual WiFi 2.4/5 Ghz H616 4K ...                 NaN   \n",
       "4  Trixis Fire 5515 Desktop PC, i5 4th Generation...  4.2 out of 5 stars   \n",
       "5  Trixis Zaire-Z10 i7 3rd Generation Computer De...  4.5 out of 5 stars   \n",
       "6  Trixis Zaire-Z16 i5 4th Generation Computer De...  4.5 out of 5 stars   \n",
       "7  Dorca Best Protective IPS Monitor Dust Cover F...  4.4 out of 5 stars   \n",
       "\n",
       "    price  \n",
       "0   4,499  \n",
       "1  22,499  \n",
       "2  45,000  \n",
       "3   3,399  \n",
       "4  14,399  \n",
       "5  15,530  \n",
       "6  13,235  \n",
       "7     289  "
      ]
     },
     "execution_count": 15,
     "metadata": {},
     "output_type": "execute_result"
    }
   ],
   "source": [
    "df_csv"
   ]
  },
  {
   "cell_type": "code",
   "execution_count": 17,
   "id": "32fbdab8",
   "metadata": {},
   "outputs": [],
   "source": [
    "output_csv_path = r\"C:\\Users\\kirth\\Downloads\\amazon_data_output.csv\" "
   ]
  },
  {
   "cell_type": "code",
   "execution_count": 18,
   "id": "4a436a21",
   "metadata": {},
   "outputs": [
    {
     "name": "stdout",
     "output_type": "stream",
     "text": [
      "CSV file has been saved to C:\\Users\\kirth\\Downloads\\amazon_data_output.csv\n"
     ]
    }
   ],
   "source": [
    "# Save the DataFrame to the specified location\n",
    "df_csv.to_csv(output_csv_path, index=False)\n",
    "print(f\"CSV file has been saved to {output_csv_path}\")"
   ]
  },
  {
   "cell_type": "code",
   "execution_count": null,
   "id": "b7e07475",
   "metadata": {},
   "outputs": [],
   "source": []
  }
 ],
 "metadata": {
  "kernelspec": {
   "display_name": "Python 3 (ipykernel)",
   "language": "python",
   "name": "python3"
  },
  "language_info": {
   "codemirror_mode": {
    "name": "ipython",
    "version": 3
   },
   "file_extension": ".py",
   "mimetype": "text/x-python",
   "name": "python",
   "nbconvert_exporter": "python",
   "pygments_lexer": "ipython3",
   "version": "3.11.7"
  }
 },
 "nbformat": 4,
 "nbformat_minor": 5
}
